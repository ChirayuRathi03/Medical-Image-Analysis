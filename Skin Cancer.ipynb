{
 "cells": [
  {
   "cell_type": "code",
   "execution_count": 1,
   "id": "e0d610a3-9945-4b84-a3a3-44432cc4c5f3",
   "metadata": {},
   "outputs": [],
   "source": [
    "import pandas as pd\n",
    "import numpy as np\n",
    "import warnings "
   ]
  },
  {
   "cell_type": "code",
   "execution_count": 2,
   "id": "1676c036-dcaa-441b-b0c3-bb3e2c175d9c",
   "metadata": {},
   "outputs": [],
   "source": [
    "path='Skin Cancer/mnist ham1000/hmnist_28_28_RGB.csv'"
   ]
  },
  {
   "cell_type": "code",
   "execution_count": 3,
   "id": "876449e9-ee9e-4f2a-aedf-d8b5ba440b31",
   "metadata": {},
   "outputs": [],
   "source": [
    "df=pd.read_csv(path)"
   ]
  },
  {
   "cell_type": "code",
   "execution_count": 4,
   "id": "775713f5-4680-414a-8825-792861b70e53",
   "metadata": {},
   "outputs": [
    {
     "data": {
      "text/html": [
       "<div>\n",
       "<style scoped>\n",
       "    .dataframe tbody tr th:only-of-type {\n",
       "        vertical-align: middle;\n",
       "    }\n",
       "\n",
       "    .dataframe tbody tr th {\n",
       "        vertical-align: top;\n",
       "    }\n",
       "\n",
       "    .dataframe thead th {\n",
       "        text-align: right;\n",
       "    }\n",
       "</style>\n",
       "<table border=\"1\" class=\"dataframe\">\n",
       "  <thead>\n",
       "    <tr style=\"text-align: right;\">\n",
       "      <th></th>\n",
       "      <th>pixel0000</th>\n",
       "      <th>pixel0001</th>\n",
       "      <th>pixel0002</th>\n",
       "      <th>pixel0003</th>\n",
       "      <th>pixel0004</th>\n",
       "      <th>pixel0005</th>\n",
       "      <th>pixel0006</th>\n",
       "      <th>pixel0007</th>\n",
       "      <th>pixel0008</th>\n",
       "      <th>pixel0009</th>\n",
       "      <th>...</th>\n",
       "      <th>pixel2343</th>\n",
       "      <th>pixel2344</th>\n",
       "      <th>pixel2345</th>\n",
       "      <th>pixel2346</th>\n",
       "      <th>pixel2347</th>\n",
       "      <th>pixel2348</th>\n",
       "      <th>pixel2349</th>\n",
       "      <th>pixel2350</th>\n",
       "      <th>pixel2351</th>\n",
       "      <th>label</th>\n",
       "    </tr>\n",
       "  </thead>\n",
       "  <tbody>\n",
       "    <tr>\n",
       "      <th>0</th>\n",
       "      <td>192</td>\n",
       "      <td>153</td>\n",
       "      <td>193</td>\n",
       "      <td>195</td>\n",
       "      <td>155</td>\n",
       "      <td>192</td>\n",
       "      <td>197</td>\n",
       "      <td>154</td>\n",
       "      <td>185</td>\n",
       "      <td>202</td>\n",
       "      <td>...</td>\n",
       "      <td>173</td>\n",
       "      <td>124</td>\n",
       "      <td>138</td>\n",
       "      <td>183</td>\n",
       "      <td>147</td>\n",
       "      <td>166</td>\n",
       "      <td>185</td>\n",
       "      <td>154</td>\n",
       "      <td>177</td>\n",
       "      <td>2</td>\n",
       "    </tr>\n",
       "    <tr>\n",
       "      <th>1</th>\n",
       "      <td>25</td>\n",
       "      <td>14</td>\n",
       "      <td>30</td>\n",
       "      <td>68</td>\n",
       "      <td>48</td>\n",
       "      <td>75</td>\n",
       "      <td>123</td>\n",
       "      <td>93</td>\n",
       "      <td>126</td>\n",
       "      <td>158</td>\n",
       "      <td>...</td>\n",
       "      <td>60</td>\n",
       "      <td>39</td>\n",
       "      <td>55</td>\n",
       "      <td>25</td>\n",
       "      <td>14</td>\n",
       "      <td>28</td>\n",
       "      <td>25</td>\n",
       "      <td>14</td>\n",
       "      <td>27</td>\n",
       "      <td>2</td>\n",
       "    </tr>\n",
       "    <tr>\n",
       "      <th>2</th>\n",
       "      <td>192</td>\n",
       "      <td>138</td>\n",
       "      <td>153</td>\n",
       "      <td>200</td>\n",
       "      <td>145</td>\n",
       "      <td>163</td>\n",
       "      <td>201</td>\n",
       "      <td>142</td>\n",
       "      <td>160</td>\n",
       "      <td>206</td>\n",
       "      <td>...</td>\n",
       "      <td>167</td>\n",
       "      <td>129</td>\n",
       "      <td>143</td>\n",
       "      <td>159</td>\n",
       "      <td>124</td>\n",
       "      <td>142</td>\n",
       "      <td>136</td>\n",
       "      <td>104</td>\n",
       "      <td>117</td>\n",
       "      <td>2</td>\n",
       "    </tr>\n",
       "    <tr>\n",
       "      <th>3</th>\n",
       "      <td>38</td>\n",
       "      <td>19</td>\n",
       "      <td>30</td>\n",
       "      <td>95</td>\n",
       "      <td>59</td>\n",
       "      <td>72</td>\n",
       "      <td>143</td>\n",
       "      <td>103</td>\n",
       "      <td>119</td>\n",
       "      <td>171</td>\n",
       "      <td>...</td>\n",
       "      <td>44</td>\n",
       "      <td>26</td>\n",
       "      <td>36</td>\n",
       "      <td>25</td>\n",
       "      <td>12</td>\n",
       "      <td>17</td>\n",
       "      <td>25</td>\n",
       "      <td>12</td>\n",
       "      <td>15</td>\n",
       "      <td>2</td>\n",
       "    </tr>\n",
       "    <tr>\n",
       "      <th>4</th>\n",
       "      <td>158</td>\n",
       "      <td>113</td>\n",
       "      <td>139</td>\n",
       "      <td>194</td>\n",
       "      <td>144</td>\n",
       "      <td>174</td>\n",
       "      <td>215</td>\n",
       "      <td>162</td>\n",
       "      <td>191</td>\n",
       "      <td>225</td>\n",
       "      <td>...</td>\n",
       "      <td>209</td>\n",
       "      <td>166</td>\n",
       "      <td>185</td>\n",
       "      <td>172</td>\n",
       "      <td>135</td>\n",
       "      <td>149</td>\n",
       "      <td>109</td>\n",
       "      <td>78</td>\n",
       "      <td>92</td>\n",
       "      <td>2</td>\n",
       "    </tr>\n",
       "  </tbody>\n",
       "</table>\n",
       "<p>5 rows × 2353 columns</p>\n",
       "</div>"
      ],
      "text/plain": [
       "   pixel0000  pixel0001  pixel0002  pixel0003  pixel0004  pixel0005  \\\n",
       "0        192        153        193        195        155        192   \n",
       "1         25         14         30         68         48         75   \n",
       "2        192        138        153        200        145        163   \n",
       "3         38         19         30         95         59         72   \n",
       "4        158        113        139        194        144        174   \n",
       "\n",
       "   pixel0006  pixel0007  pixel0008  pixel0009  ...  pixel2343  pixel2344  \\\n",
       "0        197        154        185        202  ...        173        124   \n",
       "1        123         93        126        158  ...         60         39   \n",
       "2        201        142        160        206  ...        167        129   \n",
       "3        143        103        119        171  ...         44         26   \n",
       "4        215        162        191        225  ...        209        166   \n",
       "\n",
       "   pixel2345  pixel2346  pixel2347  pixel2348  pixel2349  pixel2350  \\\n",
       "0        138        183        147        166        185        154   \n",
       "1         55         25         14         28         25         14   \n",
       "2        143        159        124        142        136        104   \n",
       "3         36         25         12         17         25         12   \n",
       "4        185        172        135        149        109         78   \n",
       "\n",
       "   pixel2351  label  \n",
       "0        177      2  \n",
       "1         27      2  \n",
       "2        117      2  \n",
       "3         15      2  \n",
       "4         92      2  \n",
       "\n",
       "[5 rows x 2353 columns]"
      ]
     },
     "execution_count": 4,
     "metadata": {},
     "output_type": "execute_result"
    }
   ],
   "source": [
    "df.head(5)"
   ]
  },
  {
   "cell_type": "code",
   "execution_count": 5,
   "id": "9a265464-f13e-49e3-a58a-00b651b898a7",
   "metadata": {},
   "outputs": [
    {
     "data": {
      "text/html": [
       "<div>\n",
       "<style scoped>\n",
       "    .dataframe tbody tr th:only-of-type {\n",
       "        vertical-align: middle;\n",
       "    }\n",
       "\n",
       "    .dataframe tbody tr th {\n",
       "        vertical-align: top;\n",
       "    }\n",
       "\n",
       "    .dataframe thead th {\n",
       "        text-align: right;\n",
       "    }\n",
       "</style>\n",
       "<table border=\"1\" class=\"dataframe\">\n",
       "  <thead>\n",
       "    <tr style=\"text-align: right;\">\n",
       "      <th></th>\n",
       "      <th>pixel0000</th>\n",
       "      <th>pixel0001</th>\n",
       "      <th>pixel0002</th>\n",
       "      <th>pixel0003</th>\n",
       "      <th>pixel0004</th>\n",
       "      <th>pixel0005</th>\n",
       "      <th>pixel0006</th>\n",
       "      <th>pixel0007</th>\n",
       "      <th>pixel0008</th>\n",
       "      <th>pixel0009</th>\n",
       "      <th>...</th>\n",
       "      <th>pixel2343</th>\n",
       "      <th>pixel2344</th>\n",
       "      <th>pixel2345</th>\n",
       "      <th>pixel2346</th>\n",
       "      <th>pixel2347</th>\n",
       "      <th>pixel2348</th>\n",
       "      <th>pixel2349</th>\n",
       "      <th>pixel2350</th>\n",
       "      <th>pixel2351</th>\n",
       "      <th>label</th>\n",
       "    </tr>\n",
       "  </thead>\n",
       "  <tbody>\n",
       "    <tr>\n",
       "      <th>10010</th>\n",
       "      <td>183</td>\n",
       "      <td>165</td>\n",
       "      <td>181</td>\n",
       "      <td>182</td>\n",
       "      <td>165</td>\n",
       "      <td>180</td>\n",
       "      <td>184</td>\n",
       "      <td>166</td>\n",
       "      <td>182</td>\n",
       "      <td>188</td>\n",
       "      <td>...</td>\n",
       "      <td>208</td>\n",
       "      <td>185</td>\n",
       "      <td>187</td>\n",
       "      <td>208</td>\n",
       "      <td>186</td>\n",
       "      <td>186</td>\n",
       "      <td>206</td>\n",
       "      <td>187</td>\n",
       "      <td>189</td>\n",
       "      <td>0</td>\n",
       "    </tr>\n",
       "    <tr>\n",
       "      <th>10011</th>\n",
       "      <td>2</td>\n",
       "      <td>3</td>\n",
       "      <td>1</td>\n",
       "      <td>38</td>\n",
       "      <td>33</td>\n",
       "      <td>32</td>\n",
       "      <td>121</td>\n",
       "      <td>104</td>\n",
       "      <td>103</td>\n",
       "      <td>132</td>\n",
       "      <td>...</td>\n",
       "      <td>96</td>\n",
       "      <td>79</td>\n",
       "      <td>76</td>\n",
       "      <td>24</td>\n",
       "      <td>23</td>\n",
       "      <td>21</td>\n",
       "      <td>3</td>\n",
       "      <td>4</td>\n",
       "      <td>1</td>\n",
       "      <td>0</td>\n",
       "    </tr>\n",
       "    <tr>\n",
       "      <th>10012</th>\n",
       "      <td>132</td>\n",
       "      <td>118</td>\n",
       "      <td>118</td>\n",
       "      <td>167</td>\n",
       "      <td>149</td>\n",
       "      <td>149</td>\n",
       "      <td>175</td>\n",
       "      <td>156</td>\n",
       "      <td>160</td>\n",
       "      <td>184</td>\n",
       "      <td>...</td>\n",
       "      <td>204</td>\n",
       "      <td>181</td>\n",
       "      <td>178</td>\n",
       "      <td>181</td>\n",
       "      <td>159</td>\n",
       "      <td>153</td>\n",
       "      <td>172</td>\n",
       "      <td>151</td>\n",
       "      <td>145</td>\n",
       "      <td>0</td>\n",
       "    </tr>\n",
       "    <tr>\n",
       "      <th>10013</th>\n",
       "      <td>160</td>\n",
       "      <td>124</td>\n",
       "      <td>146</td>\n",
       "      <td>164</td>\n",
       "      <td>131</td>\n",
       "      <td>152</td>\n",
       "      <td>167</td>\n",
       "      <td>127</td>\n",
       "      <td>146</td>\n",
       "      <td>169</td>\n",
       "      <td>...</td>\n",
       "      <td>185</td>\n",
       "      <td>162</td>\n",
       "      <td>167</td>\n",
       "      <td>184</td>\n",
       "      <td>157</td>\n",
       "      <td>166</td>\n",
       "      <td>185</td>\n",
       "      <td>162</td>\n",
       "      <td>172</td>\n",
       "      <td>0</td>\n",
       "    </tr>\n",
       "    <tr>\n",
       "      <th>10014</th>\n",
       "      <td>175</td>\n",
       "      <td>142</td>\n",
       "      <td>121</td>\n",
       "      <td>181</td>\n",
       "      <td>150</td>\n",
       "      <td>134</td>\n",
       "      <td>181</td>\n",
       "      <td>150</td>\n",
       "      <td>133</td>\n",
       "      <td>178</td>\n",
       "      <td>...</td>\n",
       "      <td>159</td>\n",
       "      <td>79</td>\n",
       "      <td>82</td>\n",
       "      <td>174</td>\n",
       "      <td>137</td>\n",
       "      <td>125</td>\n",
       "      <td>175</td>\n",
       "      <td>139</td>\n",
       "      <td>126</td>\n",
       "      <td>6</td>\n",
       "    </tr>\n",
       "  </tbody>\n",
       "</table>\n",
       "<p>5 rows × 2353 columns</p>\n",
       "</div>"
      ],
      "text/plain": [
       "       pixel0000  pixel0001  pixel0002  pixel0003  pixel0004  pixel0005  \\\n",
       "10010        183        165        181        182        165        180   \n",
       "10011          2          3          1         38         33         32   \n",
       "10012        132        118        118        167        149        149   \n",
       "10013        160        124        146        164        131        152   \n",
       "10014        175        142        121        181        150        134   \n",
       "\n",
       "       pixel0006  pixel0007  pixel0008  pixel0009  ...  pixel2343  pixel2344  \\\n",
       "10010        184        166        182        188  ...        208        185   \n",
       "10011        121        104        103        132  ...         96         79   \n",
       "10012        175        156        160        184  ...        204        181   \n",
       "10013        167        127        146        169  ...        185        162   \n",
       "10014        181        150        133        178  ...        159         79   \n",
       "\n",
       "       pixel2345  pixel2346  pixel2347  pixel2348  pixel2349  pixel2350  \\\n",
       "10010        187        208        186        186        206        187   \n",
       "10011         76         24         23         21          3          4   \n",
       "10012        178        181        159        153        172        151   \n",
       "10013        167        184        157        166        185        162   \n",
       "10014         82        174        137        125        175        139   \n",
       "\n",
       "       pixel2351  label  \n",
       "10010        189      0  \n",
       "10011          1      0  \n",
       "10012        145      0  \n",
       "10013        172      0  \n",
       "10014        126      6  \n",
       "\n",
       "[5 rows x 2353 columns]"
      ]
     },
     "execution_count": 5,
     "metadata": {},
     "output_type": "execute_result"
    }
   ],
   "source": [
    "df.tail(5)"
   ]
  },
  {
   "cell_type": "code",
   "execution_count": 6,
   "id": "8bfab723-fe62-41c9-94c1-2f575de3d0e3",
   "metadata": {},
   "outputs": [
    {
     "name": "stderr",
     "output_type": "stream",
     "text": [
      "D:\\Python310\\lib\\site-packages\\numpy\\core\\fromnumeric.py:57: FutureWarning: 'DataFrame.swapaxes' is deprecated and will be removed in a future version. Please use 'DataFrame.transpose' instead.\n",
      "  return bound(*args, **kwds)\n"
     ]
    }
   ],
   "source": [
    "fractions=np.array([0.8,0.2])\n",
    "df=df.sample(frac=1)\n",
    "train_set, test_set = np.array_split(\n",
    "    df, (fractions[:-1].cumsum() * len(df)).astype(int))"
   ]
  },
  {
   "cell_type": "code",
   "execution_count": 7,
   "id": "3a3ecadb-1b12-4093-9840-7da9c2314877",
   "metadata": {},
   "outputs": [
    {
     "name": "stdout",
     "output_type": "stream",
     "text": [
      "8012\n"
     ]
    }
   ],
   "source": [
    "print(len(train_set))"
   ]
  },
  {
   "cell_type": "code",
   "execution_count": 8,
   "id": "ae4763d9-a213-4307-8078-b2c45b317bbd",
   "metadata": {},
   "outputs": [
    {
     "name": "stdout",
     "output_type": "stream",
     "text": [
      "2003\n"
     ]
    }
   ],
   "source": [
    "print(len(test_set))"
   ]
  },
  {
   "cell_type": "code",
   "execution_count": 9,
   "id": "cc105a4d-59fb-4881-a81e-b5c2a6fce652",
   "metadata": {},
   "outputs": [
    {
     "data": {
      "text/plain": [
       "array([4, 2, 1, 6, 0, 5, 3], dtype=int64)"
      ]
     },
     "execution_count": 9,
     "metadata": {},
     "output_type": "execute_result"
    }
   ],
   "source": [
    "df.label.unique()"
   ]
  },
  {
   "cell_type": "code",
   "execution_count": 10,
   "id": "721b8e03-95f9-4bec-8a0b-9c90500bf98f",
   "metadata": {},
   "outputs": [],
   "source": [
    "classes={0:('akiec', 'actinic keratoses and intraepithelial carcinomae'),\n",
    "         1:('bcc' , 'basal cell carcinoma'),\n",
    "         2:('bkl', 'benign keratosis-like lesions'),\n",
    "         3:('df', 'dermatofibroma'),\n",
    "         4:('nv', ' melanocytic nevi'),\n",
    "         5:('vasc', ' pyogenic granulomas and hemorrhage'),\n",
    "         6:('mel', 'melanoma'),\n",
    "        }"
   ]
  },
  {
   "cell_type": "code",
   "execution_count": 11,
   "id": "3133521e-173d-461f-8fcc-4295aa135e49",
   "metadata": {},
   "outputs": [],
   "source": [
    "y_train=train_set['label']\n",
    "x_train=train_set.drop(columns=['label'])\n",
    "y_test=test_set['label']\n",
    "x_test=test_set.drop(columns=['label'])\n",
    "\n",
    "columns=list(x_train)"
   ]
  },
  {
   "cell_type": "code",
   "execution_count": 12,
   "id": "cf822cee-ff4d-422e-ae48-0b52ded19700",
   "metadata": {},
   "outputs": [
    {
     "name": "stdout",
     "output_type": "stream",
     "text": [
      "cpu\n"
     ]
    }
   ],
   "source": [
    "import torch\n",
    "\n",
    "device = torch.device(\"cuda:0\" if torch.cuda.is_available() else \"cpu\")\n",
    "print(device)"
   ]
  },
  {
   "cell_type": "code",
   "execution_count": 13,
   "id": "2693b8e9-561b-4f6a-93e5-ee1cdbb77cab",
   "metadata": {},
   "outputs": [
    {
     "data": {
      "text/plain": [
       "<Axes: ylabel='count'>"
      ]
     },
     "execution_count": 13,
     "metadata": {},
     "output_type": "execute_result"
    },
    {
     "data": {
      "image/png": "[encoded data removed]",
      "text/plain": [
       "<Figure size 640x480 with 1 Axes>"
      ]
     },
     "metadata": {},
     "output_type": "display_data"
    }
   ],
   "source": [
    "import seaborn as sns\n",
    "\n",
    "sns.countplot(train_set['label'])"
   ]
  },
  {
   "cell_type": "code",
   "execution_count": 14,
   "id": "aad0e138-e291-4307-a613-6e96f1e91fdd",
   "metadata": {},
   "outputs": [],
   "source": [
    "from imblearn.over_sampling import RandomOverSampler\n",
    "\n",
    "oversample = RandomOverSampler()\n",
    "x_train,y_train  = oversample.fit_resample(x_train,y_train)"
   ]
  },
  {
   "cell_type": "code",
   "execution_count": 15,
   "id": "feaf6137-52e1-43ea-9c93-84424b7be18a",
   "metadata": {},
   "outputs": [
    {
     "data": {
      "text/plain": [
       "<Axes: ylabel='count'>"
      ]
     },
     "execution_count": 15,
     "metadata": {},
     "output_type": "execute_result"
    },
    {
     "data": {
      "image/png": "[encoded data removed]",
      "text/plain": [
       "<Figure size 640x480 with 1 Axes>"
      ]
     },
     "metadata": {},
     "output_type": "display_data"
    }
   ],
   "source": [
    "sns.countplot(y_train)"
   ]
  },
  {
   "cell_type": "code",
   "execution_count": 16,
   "id": "f10d215a-3e7f-48b7-b473-6241b9491480",
   "metadata": {},
   "outputs": [
    {
     "data": {
      "image/png": "[encoded data removed]",
      "text/plain": [
       "<Figure size 640x480 with 1 Axes>"
      ]
     },
     "metadata": {},
     "output_type": "display_data"
    },
    {
     "data": {
      "image/png": "[encoded data removed]",
      "text/plain": [
       "<Figure size 640x480 with 1 Axes>"
      ]
     },
     "metadata": {},
     "output_type": "display_data"
    },
    {
     "data": {
      "image/png": "[encoded data removed]",
      "text/plain": [
       "<Figure size 640x480 with 1 Axes>"
      ]
     },
     "metadata": {},
     "output_type": "display_data"
    }
   ],
   "source": [
    "import matplotlib.pyplot as plt\n",
    "import random\n",
    "\n",
    "num=random.randint(0,8000)\n",
    "\n",
    "x_train=np.array(x_train, dtype=np.uint8).reshape(-1,28,28,3)\n",
    "\n",
    "plt.imshow(x_train[num].reshape(28,28,3))\n",
    "plt.title(\"Random image from training data\")\n",
    "plt.show()\n",
    "\n",
    "num=random.randint(0,8000)\n",
    "plt.imshow(x_train[num].reshape(28,28,3))\n",
    "plt.title(\"Random image from training data\")\n",
    "plt.show()\n",
    "\n",
    "num=random.randint(0,8000)\n",
    "plt.imshow(x_train[num].reshape(28,28,3))\n",
    "plt.title(\"Random image from training data\")\n",
    "plt.show()"
   ]
  },
  {
   "cell_type": "code",
   "execution_count": 17,
   "id": "4c20b6d0-3c98-4461-aa8e-302f190d2d19",
   "metadata": {},
   "outputs": [],
   "source": [
    "from tensorflow.keras.models import Sequential\n",
    "from tensorflow.keras.layers import Conv2D, Flatten, Dense, MaxPool2D\n",
    "import tensorflow as tf"
   ]
  },
  {
   "cell_type": "code",
   "execution_count": 18,
   "id": "b916edc8-1a88-4cd2-9a0c-36b8c560dd62",
   "metadata": {},
   "outputs": [
    {
     "name": "stdout",
     "output_type": "stream",
     "text": [
      "Model: \"sequential\"\n",
      "_________________________________________________________________\n",
      " Layer (type)                Output Shape              Param #   \n",
      "=================================================================\n",
      " conv2d (Conv2D)             (None, 28, 28, 16)        448       \n",
      "                                                                 \n",
      " max_pooling2d (MaxPooling2  (None, 14, 14, 16)        0         \n",
      " D)                                                              \n",
      "                                                                 \n",
      " batch_normalization (Batch  (None, 14, 14, 16)        64        \n",
      " Normalization)                                                  \n",
      "                                                                 \n",
      " conv2d_1 (Conv2D)           (None, 12, 12, 32)        4640      \n",
      "                                                                 \n",
      " conv2d_2 (Conv2D)           (None, 10, 10, 64)        18496     \n",
      "                                                                 \n",
      " max_pooling2d_1 (MaxPoolin  (None, 5, 5, 64)          0         \n",
      " g2D)                                                            \n",
      "                                                                 \n",
      " batch_normalization_1 (Bat  (None, 5, 5, 64)          256       \n",
      " chNormalization)                                                \n",
      "                                                                 \n",
      " conv2d_3 (Conv2D)           (None, 3, 3, 128)         73856     \n",
      "                                                                 \n",
      " conv2d_4 (Conv2D)           (None, 1, 1, 256)         295168    \n",
      "                                                                 \n",
      " flatten (Flatten)           (None, 256)               0         \n",
      "                                                                 \n",
      " dropout (Dropout)           (None, 256)               0         \n",
      "                                                                 \n",
      " dense (Dense)               (None, 256)               65792     \n",
      "                                                                 \n",
      " batch_normalization_2 (Bat  (None, 256)               1024      \n",
      " chNormalization)                                                \n",
      "                                                                 \n",
      " dropout_1 (Dropout)         (None, 256)               0         \n",
      "                                                                 \n",
      " dense_1 (Dense)             (None, 128)               32896     \n",
      "                                                                 \n",
      " batch_normalization_3 (Bat  (None, 128)               512       \n",
      " chNormalization)                                                \n",
      "                                                                 \n",
      " dense_2 (Dense)             (None, 64)                8256      \n",
      "                                                                 \n",
      " batch_normalization_4 (Bat  (None, 64)                256       \n",
      " chNormalization)                                                \n",
      "                                                                 \n",
      " dropout_2 (Dropout)         (None, 64)                0         \n",
      "                                                                 \n",
      " dense_3 (Dense)             (None, 32)                2080      \n",
      "                                                                 \n",
      " batch_normalization_5 (Bat  (None, 32)                128       \n",
      " chNormalization)                                                \n",
      "                                                                 \n",
      " dense_4 (Dense)             (None, 7)                 231       \n",
      "                                                                 \n",
      "=================================================================\n",
      "Total params: 504103 (1.92 MB)\n",
      "Trainable params: 502983 (1.92 MB)\n",
      "Non-trainable params: 1120 (4.38 KB)\n",
      "_________________________________________________________________\n"
     ]
    }
   ],
   "source": [
    "model = Sequential()\n",
    "model.add(Conv2D(16, kernel_size = (3,3), input_shape = (28, 28, 3), activation = 'relu', padding = 'same'))\n",
    "model.add(MaxPool2D(pool_size = (2,2)))\n",
    "model.add(tf.keras.layers.BatchNormalization())\n",
    "\n",
    "model.add(Conv2D(32, kernel_size = (3,3), activation = 'relu'))\n",
    "model.add(Conv2D(64, kernel_size = (3,3), activation = 'relu'))\n",
    "\n",
    "model.add(MaxPool2D(pool_size = (2,2)))\n",
    "\n",
    "model.add(tf.keras.layers.BatchNormalization())\n",
    "\n",
    "model.add(Conv2D(128, kernel_size = (3,3), activation = 'relu'))\n",
    "model.add(Conv2D(256, kernel_size = (3,3), activation = 'relu'))\n",
    "\n",
    "model.add(Flatten())\n",
    "model.add(tf.keras.layers.Dropout(0.2))\n",
    "model.add(Dense(256,activation='relu'))\n",
    "\n",
    "model.add(tf.keras.layers.BatchNormalization())\n",
    "model.add(tf.keras.layers.Dropout(0.2))\n",
    "model.add(Dense(128,activation='relu'))\n",
    "\n",
    "model.add(tf.keras.layers.BatchNormalization())\n",
    "model.add(Dense(64,activation='relu'))\n",
    "\n",
    "model.add(tf.keras.layers.BatchNormalization())\n",
    "model.add(tf.keras.layers.Dropout(0.2))\n",
    "model.add(Dense(32,activation='relu'))\n",
    "\n",
    "model.add(tf.keras.layers.BatchNormalization())\n",
    "model.add(Dense(7,activation='softmax'))\n",
    "\n",
    "model.summary()"
   ]
  },
  {
   "cell_type": "code",
   "execution_count": 19,
   "id": "db38484b-2e0e-4566-b156-c17ef7babdcc",
   "metadata": {},
   "outputs": [],
   "source": [
    "callback = tf.keras.callbacks.ModelCheckpoint(filepath='best_model.h5',\n",
    "                                              monitor='val_acc', \n",
    "                                              mode='max',\n",
    "                                              verbose=1, \n",
    "                                              save_best_only=True)"
   ]
  },
  {
   "cell_type": "code",
   "execution_count": 20,
   "id": "d30a17e1-7f32-4495-93df-a7d0ce7a22ce",
   "metadata": {},
   "outputs": [
    {
     "name": "stderr",
     "output_type": "stream",
     "text": [
      "WARNING:absl:`lr` is deprecated in Keras optimizer, please use `learning_rate` or use the legacy optimizer, e.g.,tf.keras.optimizers.legacy.Adam.\n"
     ]
    }
   ],
   "source": [
    "optimizer=tf.keras.optimizers.Adam(lr=0.001)\n",
    "\n",
    "model.compile(loss = 'sparse_categorical_crossentropy',\n",
    "              optimizer =optimizer,\n",
    "              metrics = ['accuracy'])"
   ]
  },
  {
   "cell_type": "code",
   "execution_count": 21,
   "id": "b44f4044-6049-445b-af6a-5a1d40dd8946",
   "metadata": {},
   "outputs": [
    {
     "name": "stdout",
     "output_type": "stream",
     "text": [
      "Epoch 1/50\n",
      "235/236 [============================>.] - ETA: 0s - loss: 1.1184 - accuracy: 0.6100WARNING:tensorflow:Can save best model only with val_acc available, skipping.\n"
     ]
    },
    {
     "name": "stderr",
     "output_type": "stream",
     "text": [
      "WARNING:tensorflow:Can save best model only with val_acc available, skipping.\n"
     ]
    },
    {
     "name": "stdout",
     "output_type": "stream",
     "text": [
      "236/236 [==============================] - 22s 72ms/step - loss: 1.1180 - accuracy: 0.6101 - val_loss: 1.9589 - val_accuracy: 0.3476\n",
      "Epoch 2/50\n",
      "235/236 [============================>.] - ETA: 0s - loss: 0.3977 - accuracy: 0.8689WARNING:tensorflow:Can save best model only with val_acc available, skipping.\n"
     ]
    },
    {
     "name": "stderr",
     "output_type": "stream",
     "text": [
      "WARNING:tensorflow:Can save best model only with val_acc available, skipping.\n"
     ]
    },
    {
     "name": "stdout",
     "output_type": "stream",
     "text": [
      "236/236 [==============================] - 17s 72ms/step - loss: 0.3975 - accuracy: 0.8690 - val_loss: 2.1043 - val_accuracy: 0.3035\n",
      "Epoch 3/50\n",
      "235/236 [============================>.] - ETA: 0s - loss: 0.2512 - accuracy: 0.9154WARNING:tensorflow:Can save best model only with val_acc available, skipping.\n"
     ]
    },
    {
     "name": "stderr",
     "output_type": "stream",
     "text": [
      "WARNING:tensorflow:Can save best model only with val_acc available, skipping.\n"
     ]
    },
    {
     "name": "stdout",
     "output_type": "stream",
     "text": [
      "236/236 [==============================] - 18s 78ms/step - loss: 0.2515 - accuracy: 0.9153 - val_loss: 2.0913 - val_accuracy: 0.2848\n",
      "Epoch 4/50\n",
      "235/236 [============================>.] - ETA: 0s - loss: 0.2017 - accuracy: 0.9325WARNING:tensorflow:Can save best model only with val_acc available, skipping.\n"
     ]
    },
    {
     "name": "stderr",
     "output_type": "stream",
     "text": [
      "WARNING:tensorflow:Can save best model only with val_acc available, skipping.\n"
     ]
    },
    {
     "name": "stdout",
     "output_type": "stream",
     "text": [
      "236/236 [==============================] - 17s 72ms/step - loss: 0.2020 - accuracy: 0.9324 - val_loss: 0.8452 - val_accuracy: 0.6342\n",
      "Epoch 5/50\n",
      "236/236 [==============================] - ETA: 0s - loss: 0.1584 - accuracy: 0.9441WARNING:tensorflow:Can save best model only with val_acc available, skipping.\n"
     ]
    },
    {
     "name": "stderr",
     "output_type": "stream",
     "text": [
      "WARNING:tensorflow:Can save best model only with val_acc available, skipping.\n"
     ]
    },
    {
     "name": "stdout",
     "output_type": "stream",
     "text": [
      "236/236 [==============================] - 16s 67ms/step - loss: 0.1584 - accuracy: 0.9441 - val_loss: 1.2121 - val_accuracy: 0.5416\n",
      "Epoch 6/50\n",
      "235/236 [============================>.] - ETA: 0s - loss: 0.1378 - accuracy: 0.9524WARNING:tensorflow:Can save best model only with val_acc available, skipping.\n"
     ]
    },
    {
     "name": "stderr",
     "output_type": "stream",
     "text": [
      "WARNING:tensorflow:Can save best model only with val_acc available, skipping.\n"
     ]
    },
    {
     "name": "stdout",
     "output_type": "stream",
     "text": [
      "236/236 [==============================] - 15s 63ms/step - loss: 0.1379 - accuracy: 0.9524 - val_loss: 0.9869 - val_accuracy: 0.5523\n",
      "Epoch 7/50\n",
      "235/236 [============================>.] - ETA: 0s - loss: 0.1101 - accuracy: 0.9620WARNING:tensorflow:Can save best model only with val_acc available, skipping.\n"
     ]
    },
    {
     "name": "stderr",
     "output_type": "stream",
     "text": [
      "WARNING:tensorflow:Can save best model only with val_acc available, skipping.\n"
     ]
    },
    {
     "name": "stdout",
     "output_type": "stream",
     "text": [
      "236/236 [==============================] - 15s 64ms/step - loss: 0.1103 - accuracy: 0.9620 - val_loss: 1.0876 - val_accuracy: 0.6308\n",
      "Epoch 8/50\n",
      "235/236 [============================>.] - ETA: 0s - loss: 0.1014 - accuracy: 0.9647WARNING:tensorflow:Can save best model only with val_acc available, skipping.\n"
     ]
    },
    {
     "name": "stderr",
     "output_type": "stream",
     "text": [
      "WARNING:tensorflow:Can save best model only with val_acc available, skipping.\n"
     ]
    },
    {
     "name": "stdout",
     "output_type": "stream",
     "text": [
      "236/236 [==============================] - 15s 63ms/step - loss: 0.1014 - accuracy: 0.9647 - val_loss: 1.1555 - val_accuracy: 0.5917\n",
      "Epoch 9/50\n",
      "236/236 [==============================] - ETA: 0s - loss: 0.0928 - accuracy: 0.9671WARNING:tensorflow:Can save best model only with val_acc available, skipping.\n"
     ]
    },
    {
     "name": "stderr",
     "output_type": "stream",
     "text": [
      "WARNING:tensorflow:Can save best model only with val_acc available, skipping.\n"
     ]
    },
    {
     "name": "stdout",
     "output_type": "stream",
     "text": [
      "236/236 [==============================] - 15s 64ms/step - loss: 0.0928 - accuracy: 0.9671 - val_loss: 0.6452 - val_accuracy: 0.7622\n",
      "Epoch 10/50\n",
      "235/236 [============================>.] - ETA: 0s - loss: 0.0811 - accuracy: 0.9712WARNING:tensorflow:Can save best model only with val_acc available, skipping.\n"
     ]
    },
    {
     "name": "stderr",
     "output_type": "stream",
     "text": [
      "WARNING:tensorflow:Can save best model only with val_acc available, skipping.\n"
     ]
    },
    {
     "name": "stdout",
     "output_type": "stream",
     "text": [
      "236/236 [==============================] - 17s 71ms/step - loss: 0.0813 - accuracy: 0.9711 - val_loss: 0.3706 - val_accuracy: 0.8502\n",
      "Epoch 11/50\n",
      "235/236 [============================>.] - ETA: 0s - loss: 0.0999 - accuracy: 0.9658WARNING:tensorflow:Can save best model only with val_acc available, skipping.\n"
     ]
    },
    {
     "name": "stderr",
     "output_type": "stream",
     "text": [
      "WARNING:tensorflow:Can save best model only with val_acc available, skipping.\n"
     ]
    },
    {
     "name": "stdout",
     "output_type": "stream",
     "text": [
      "236/236 [==============================] - 16s 70ms/step - loss: 0.0999 - accuracy: 0.9658 - val_loss: 0.6803 - val_accuracy: 0.7734\n",
      "Epoch 12/50\n",
      "235/236 [============================>.] - ETA: 0s - loss: 0.0687 - accuracy: 0.9760WARNING:tensorflow:Can save best model only with val_acc available, skipping.\n"
     ]
    },
    {
     "name": "stderr",
     "output_type": "stream",
     "text": [
      "WARNING:tensorflow:Can save best model only with val_acc available, skipping.\n"
     ]
    },
    {
     "name": "stdout",
     "output_type": "stream",
     "text": [
      "236/236 [==============================] - 17s 71ms/step - loss: 0.0687 - accuracy: 0.9760 - val_loss: 0.4092 - val_accuracy: 0.8179\n",
      "Epoch 13/50\n",
      "235/236 [============================>.] - ETA: 0s - loss: 0.0489 - accuracy: 0.9827WARNING:tensorflow:Can save best model only with val_acc available, skipping.\n"
     ]
    },
    {
     "name": "stderr",
     "output_type": "stream",
     "text": [
      "WARNING:tensorflow:Can save best model only with val_acc available, skipping.\n"
     ]
    },
    {
     "name": "stdout",
     "output_type": "stream",
     "text": [
      "236/236 [==============================] - 16s 69ms/step - loss: 0.0490 - accuracy: 0.9827 - val_loss: 0.4427 - val_accuracy: 0.8350\n",
      "Epoch 14/50\n",
      "235/236 [============================>.] - ETA: 0s - loss: 0.0677 - accuracy: 0.9772WARNING:tensorflow:Can save best model only with val_acc available, skipping.\n"
     ]
    },
    {
     "name": "stderr",
     "output_type": "stream",
     "text": [
      "WARNING:tensorflow:Can save best model only with val_acc available, skipping.\n"
     ]
    },
    {
     "name": "stdout",
     "output_type": "stream",
     "text": [
      "236/236 [==============================] - 16s 68ms/step - loss: 0.0677 - accuracy: 0.9772 - val_loss: 1.3621 - val_accuracy: 0.6652\n",
      "Epoch 15/50\n",
      "235/236 [============================>.] - ETA: 0s - loss: 0.0468 - accuracy: 0.9846WARNING:tensorflow:Can save best model only with val_acc available, skipping.\n"
     ]
    },
    {
     "name": "stderr",
     "output_type": "stream",
     "text": [
      "WARNING:tensorflow:Can save best model only with val_acc available, skipping.\n"
     ]
    },
    {
     "name": "stdout",
     "output_type": "stream",
     "text": [
      "236/236 [==============================] - 16s 68ms/step - loss: 0.0472 - accuracy: 0.9845 - val_loss: 0.5598 - val_accuracy: 0.8256\n",
      "Epoch 16/50\n",
      "235/236 [============================>.] - ETA: 0s - loss: 0.0646 - accuracy: 0.9788WARNING:tensorflow:Can save best model only with val_acc available, skipping.\n"
     ]
    },
    {
     "name": "stderr",
     "output_type": "stream",
     "text": [
      "WARNING:tensorflow:Can save best model only with val_acc available, skipping.\n"
     ]
    },
    {
     "name": "stdout",
     "output_type": "stream",
     "text": [
      "236/236 [==============================] - 16s 67ms/step - loss: 0.0646 - accuracy: 0.9788 - val_loss: 0.2329 - val_accuracy: 0.9034\n",
      "Epoch 17/50\n",
      "235/236 [============================>.] - ETA: 0s - loss: 0.0304 - accuracy: 0.9893WARNING:tensorflow:Can save best model only with val_acc available, skipping.\n"
     ]
    },
    {
     "name": "stderr",
     "output_type": "stream",
     "text": [
      "WARNING:tensorflow:Can save best model only with val_acc available, skipping.\n"
     ]
    },
    {
     "name": "stdout",
     "output_type": "stream",
     "text": [
      "236/236 [==============================] - 15s 65ms/step - loss: 0.0304 - accuracy: 0.9893 - val_loss: 0.9236 - val_accuracy: 0.6987\n",
      "Epoch 18/50\n",
      "235/236 [============================>.] - ETA: 0s - loss: 0.0418 - accuracy: 0.9867WARNING:tensorflow:Can save best model only with val_acc available, skipping.\n"
     ]
    },
    {
     "name": "stderr",
     "output_type": "stream",
     "text": [
      "WARNING:tensorflow:Can save best model only with val_acc available, skipping.\n"
     ]
    },
    {
     "name": "stdout",
     "output_type": "stream",
     "text": [
      "236/236 [==============================] - 15s 65ms/step - loss: 0.0418 - accuracy: 0.9867 - val_loss: 0.2237 - val_accuracy: 0.9223\n",
      "Epoch 19/50\n",
      "235/236 [============================>.] - ETA: 0s - loss: 0.0419 - accuracy: 0.9859WARNING:tensorflow:Can save best model only with val_acc available, skipping.\n"
     ]
    },
    {
     "name": "stderr",
     "output_type": "stream",
     "text": [
      "WARNING:tensorflow:Can save best model only with val_acc available, skipping.\n"
     ]
    },
    {
     "name": "stdout",
     "output_type": "stream",
     "text": [
      "236/236 [==============================] - 16s 68ms/step - loss: 0.0420 - accuracy: 0.9859 - val_loss: 0.5283 - val_accuracy: 0.8314\n",
      "Epoch 20/50\n",
      "236/236 [==============================] - ETA: 0s - loss: 0.0402 - accuracy: 0.9874WARNING:tensorflow:Can save best model only with val_acc available, skipping.\n"
     ]
    },
    {
     "name": "stderr",
     "output_type": "stream",
     "text": [
      "WARNING:tensorflow:Can save best model only with val_acc available, skipping.\n"
     ]
    },
    {
     "name": "stdout",
     "output_type": "stream",
     "text": [
      "236/236 [==============================] - 15s 63ms/step - loss: 0.0402 - accuracy: 0.9874 - val_loss: 0.4597 - val_accuracy: 0.8440\n",
      "Epoch 21/50\n",
      "235/236 [============================>.] - ETA: 0s - loss: 0.0524 - accuracy: 0.9839WARNING:tensorflow:Can save best model only with val_acc available, skipping.\n"
     ]
    },
    {
     "name": "stderr",
     "output_type": "stream",
     "text": [
      "WARNING:tensorflow:Can save best model only with val_acc available, skipping.\n"
     ]
    },
    {
     "name": "stdout",
     "output_type": "stream",
     "text": [
      "236/236 [==============================] - 14s 61ms/step - loss: 0.0526 - accuracy: 0.9839 - val_loss: 0.4243 - val_accuracy: 0.8444\n",
      "Epoch 22/50\n",
      "235/236 [============================>.] - ETA: 0s - loss: 0.0279 - accuracy: 0.9905WARNING:tensorflow:Can save best model only with val_acc available, skipping.\n"
     ]
    },
    {
     "name": "stderr",
     "output_type": "stream",
     "text": [
      "WARNING:tensorflow:Can save best model only with val_acc available, skipping.\n"
     ]
    },
    {
     "name": "stdout",
     "output_type": "stream",
     "text": [
      "236/236 [==============================] - 15s 65ms/step - loss: 0.0279 - accuracy: 0.9905 - val_loss: 0.2085 - val_accuracy: 0.9216\n",
      "Epoch 23/50\n",
      "235/236 [============================>.] - ETA: 0s - loss: 0.0356 - accuracy: 0.9882WARNING:tensorflow:Can save best model only with val_acc available, skipping.\n"
     ]
    },
    {
     "name": "stderr",
     "output_type": "stream",
     "text": [
      "WARNING:tensorflow:Can save best model only with val_acc available, skipping.\n"
     ]
    },
    {
     "name": "stdout",
     "output_type": "stream",
     "text": [
      "236/236 [==============================] - 15s 66ms/step - loss: 0.0356 - accuracy: 0.9882 - val_loss: 0.2405 - val_accuracy: 0.9202\n",
      "Epoch 24/50\n",
      "235/236 [============================>.] - ETA: 0s - loss: 0.0192 - accuracy: 0.9937WARNING:tensorflow:Can save best model only with val_acc available, skipping.\n"
     ]
    },
    {
     "name": "stderr",
     "output_type": "stream",
     "text": [
      "WARNING:tensorflow:Can save best model only with val_acc available, skipping.\n"
     ]
    },
    {
     "name": "stdout",
     "output_type": "stream",
     "text": [
      "236/236 [==============================] - 15s 63ms/step - loss: 0.0192 - accuracy: 0.9937 - val_loss: 0.2932 - val_accuracy: 0.8944\n",
      "Epoch 25/50\n",
      "235/236 [============================>.] - ETA: 0s - loss: 0.0305 - accuracy: 0.9896WARNING:tensorflow:Can save best model only with val_acc available, skipping.\n"
     ]
    },
    {
     "name": "stderr",
     "output_type": "stream",
     "text": [
      "WARNING:tensorflow:Can save best model only with val_acc available, skipping.\n"
     ]
    },
    {
     "name": "stdout",
     "output_type": "stream",
     "text": [
      "236/236 [==============================] - 15s 65ms/step - loss: 0.0305 - accuracy: 0.9895 - val_loss: 1.4981 - val_accuracy: 0.6953\n",
      "Epoch 26/50\n",
      "235/236 [============================>.] - ETA: 0s - loss: 0.0281 - accuracy: 0.9907WARNING:tensorflow:Can save best model only with val_acc available, skipping.\n"
     ]
    },
    {
     "name": "stderr",
     "output_type": "stream",
     "text": [
      "WARNING:tensorflow:Can save best model only with val_acc available, skipping.\n"
     ]
    },
    {
     "name": "stdout",
     "output_type": "stream",
     "text": [
      "236/236 [==============================] - 18s 76ms/step - loss: 0.0281 - accuracy: 0.9907 - val_loss: 0.1203 - val_accuracy: 0.9612\n",
      "Epoch 27/50\n",
      "235/236 [============================>.] - ETA: 0s - loss: 0.0252 - accuracy: 0.9915WARNING:tensorflow:Can save best model only with val_acc available, skipping.\n"
     ]
    },
    {
     "name": "stderr",
     "output_type": "stream",
     "text": [
      "WARNING:tensorflow:Can save best model only with val_acc available, skipping.\n"
     ]
    },
    {
     "name": "stdout",
     "output_type": "stream",
     "text": [
      "236/236 [==============================] - 18s 76ms/step - loss: 0.0252 - accuracy: 0.9915 - val_loss: 0.1370 - val_accuracy: 0.9509\n",
      "Epoch 28/50\n",
      "235/236 [============================>.] - ETA: 0s - loss: 0.0212 - accuracy: 0.9931WARNING:tensorflow:Can save best model only with val_acc available, skipping.\n"
     ]
    },
    {
     "name": "stderr",
     "output_type": "stream",
     "text": [
      "WARNING:tensorflow:Can save best model only with val_acc available, skipping.\n"
     ]
    },
    {
     "name": "stdout",
     "output_type": "stream",
     "text": [
      "236/236 [==============================] - 16s 68ms/step - loss: 0.0213 - accuracy: 0.9930 - val_loss: 0.3086 - val_accuracy: 0.8939\n",
      "Epoch 29/50\n",
      "235/236 [============================>.] - ETA: 0s - loss: 0.0305 - accuracy: 0.9898WARNING:tensorflow:Can save best model only with val_acc available, skipping.\n"
     ]
    },
    {
     "name": "stderr",
     "output_type": "stream",
     "text": [
      "WARNING:tensorflow:Can save best model only with val_acc available, skipping.\n"
     ]
    },
    {
     "name": "stdout",
     "output_type": "stream",
     "text": [
      "236/236 [==============================] - 15s 63ms/step - loss: 0.0305 - accuracy: 0.9898 - val_loss: 0.4184 - val_accuracy: 0.8553\n",
      "Epoch 30/50\n",
      "235/236 [============================>.] - ETA: 0s - loss: 0.0140 - accuracy: 0.9958WARNING:tensorflow:Can save best model only with val_acc available, skipping.\n"
     ]
    },
    {
     "name": "stderr",
     "output_type": "stream",
     "text": [
      "WARNING:tensorflow:Can save best model only with val_acc available, skipping.\n"
     ]
    },
    {
     "name": "stdout",
     "output_type": "stream",
     "text": [
      "236/236 [==============================] - 15s 65ms/step - loss: 0.0143 - accuracy: 0.9956 - val_loss: 0.0276 - val_accuracy: 0.9915\n",
      "Epoch 31/50\n",
      "235/236 [============================>.] - ETA: 0s - loss: 0.0422 - accuracy: 0.9866WARNING:tensorflow:Can save best model only with val_acc available, skipping.\n"
     ]
    },
    {
     "name": "stderr",
     "output_type": "stream",
     "text": [
      "WARNING:tensorflow:Can save best model only with val_acc available, skipping.\n"
     ]
    },
    {
     "name": "stdout",
     "output_type": "stream",
     "text": [
      "236/236 [==============================] - 17s 72ms/step - loss: 0.0422 - accuracy: 0.9866 - val_loss: 0.2482 - val_accuracy: 0.9026\n",
      "Epoch 32/50\n",
      "235/236 [============================>.] - ETA: 0s - loss: 0.0171 - accuracy: 0.9944WARNING:tensorflow:Can save best model only with val_acc available, skipping.\n"
     ]
    },
    {
     "name": "stderr",
     "output_type": "stream",
     "text": [
      "WARNING:tensorflow:Can save best model only with val_acc available, skipping.\n"
     ]
    },
    {
     "name": "stdout",
     "output_type": "stream",
     "text": [
      "236/236 [==============================] - 16s 70ms/step - loss: 0.0171 - accuracy: 0.9945 - val_loss: 0.0455 - val_accuracy: 0.9822\n",
      "Epoch 33/50\n",
      "235/236 [============================>.] - ETA: 0s - loss: 0.0134 - accuracy: 0.9957WARNING:tensorflow:Can save best model only with val_acc available, skipping.\n"
     ]
    },
    {
     "name": "stderr",
     "output_type": "stream",
     "text": [
      "WARNING:tensorflow:Can save best model only with val_acc available, skipping.\n"
     ]
    },
    {
     "name": "stdout",
     "output_type": "stream",
     "text": [
      "236/236 [==============================] - 15s 65ms/step - loss: 0.0134 - accuracy: 0.9957 - val_loss: 0.1602 - val_accuracy: 0.9478\n",
      "Epoch 34/50\n",
      "235/236 [============================>.] - ETA: 0s - loss: 0.0173 - accuracy: 0.9942WARNING:tensorflow:Can save best model only with val_acc available, skipping.\n"
     ]
    },
    {
     "name": "stderr",
     "output_type": "stream",
     "text": [
      "WARNING:tensorflow:Can save best model only with val_acc available, skipping.\n"
     ]
    },
    {
     "name": "stdout",
     "output_type": "stream",
     "text": [
      "236/236 [==============================] - 16s 66ms/step - loss: 0.0173 - accuracy: 0.9943 - val_loss: 0.3373 - val_accuracy: 0.8994\n",
      "Epoch 35/50\n",
      "235/236 [============================>.] - ETA: 0s - loss: 0.0199 - accuracy: 0.9932WARNING:tensorflow:Can save best model only with val_acc available, skipping.\n"
     ]
    },
    {
     "name": "stderr",
     "output_type": "stream",
     "text": [
      "WARNING:tensorflow:Can save best model only with val_acc available, skipping.\n"
     ]
    },
    {
     "name": "stdout",
     "output_type": "stream",
     "text": [
      "236/236 [==============================] - 16s 67ms/step - loss: 0.0200 - accuracy: 0.9931 - val_loss: 0.3251 - val_accuracy: 0.8876\n",
      "Epoch 36/50\n",
      "235/236 [============================>.] - ETA: 0s - loss: 0.0225 - accuracy: 0.9933WARNING:tensorflow:Can save best model only with val_acc available, skipping.\n"
     ]
    },
    {
     "name": "stderr",
     "output_type": "stream",
     "text": [
      "WARNING:tensorflow:Can save best model only with val_acc available, skipping.\n"
     ]
    },
    {
     "name": "stdout",
     "output_type": "stream",
     "text": [
      "236/236 [==============================] - 16s 69ms/step - loss: 0.0225 - accuracy: 0.9933 - val_loss: 0.1649 - val_accuracy: 0.9376\n",
      "Epoch 37/50\n",
      "235/236 [============================>.] - ETA: 0s - loss: 0.0169 - accuracy: 0.9948WARNING:tensorflow:Can save best model only with val_acc available, skipping.\n"
     ]
    },
    {
     "name": "stderr",
     "output_type": "stream",
     "text": [
      "WARNING:tensorflow:Can save best model only with val_acc available, skipping.\n"
     ]
    },
    {
     "name": "stdout",
     "output_type": "stream",
     "text": [
      "236/236 [==============================] - 16s 68ms/step - loss: 0.0169 - accuracy: 0.9948 - val_loss: 0.2687 - val_accuracy: 0.9139\n",
      "Epoch 38/50\n",
      "235/236 [============================>.] - ETA: 0s - loss: 0.0196 - accuracy: 0.9937WARNING:tensorflow:Can save best model only with val_acc available, skipping.\n"
     ]
    },
    {
     "name": "stderr",
     "output_type": "stream",
     "text": [
      "WARNING:tensorflow:Can save best model only with val_acc available, skipping.\n"
     ]
    },
    {
     "name": "stdout",
     "output_type": "stream",
     "text": [
      "236/236 [==============================] - 15s 66ms/step - loss: 0.0196 - accuracy: 0.9937 - val_loss: 0.3297 - val_accuracy: 0.8990\n",
      "Epoch 39/50\n",
      "235/236 [============================>.] - ETA: 0s - loss: 0.0139 - accuracy: 0.9958WARNING:tensorflow:Can save best model only with val_acc available, skipping.\n"
     ]
    },
    {
     "name": "stderr",
     "output_type": "stream",
     "text": [
      "WARNING:tensorflow:Can save best model only with val_acc available, skipping.\n"
     ]
    },
    {
     "name": "stdout",
     "output_type": "stream",
     "text": [
      "236/236 [==============================] - 15s 65ms/step - loss: 0.0140 - accuracy: 0.9958 - val_loss: 0.5356 - val_accuracy: 0.8579\n",
      "Epoch 40/50\n",
      "235/236 [============================>.] - ETA: 0s - loss: 0.0247 - accuracy: 0.9930WARNING:tensorflow:Can save best model only with val_acc available, skipping.\n"
     ]
    },
    {
     "name": "stderr",
     "output_type": "stream",
     "text": [
      "WARNING:tensorflow:Can save best model only with val_acc available, skipping.\n"
     ]
    },
    {
     "name": "stdout",
     "output_type": "stream",
     "text": [
      "236/236 [==============================] - 15s 65ms/step - loss: 0.0247 - accuracy: 0.9929 - val_loss: 0.1348 - val_accuracy: 0.9485\n",
      "Epoch 41/50\n",
      "235/236 [============================>.] - ETA: 0s - loss: 0.0125 - accuracy: 0.9958WARNING:tensorflow:Can save best model only with val_acc available, skipping.\n"
     ]
    },
    {
     "name": "stderr",
     "output_type": "stream",
     "text": [
      "WARNING:tensorflow:Can save best model only with val_acc available, skipping.\n"
     ]
    },
    {
     "name": "stdout",
     "output_type": "stream",
     "text": [
      "236/236 [==============================] - 16s 69ms/step - loss: 0.0127 - accuracy: 0.9958 - val_loss: 0.4082 - val_accuracy: 0.8903\n",
      "Epoch 42/50\n",
      "235/236 [============================>.] - ETA: 0s - loss: 0.0199 - accuracy: 0.9937WARNING:tensorflow:Can save best model only with val_acc available, skipping.\n"
     ]
    },
    {
     "name": "stderr",
     "output_type": "stream",
     "text": [
      "WARNING:tensorflow:Can save best model only with val_acc available, skipping.\n"
     ]
    },
    {
     "name": "stdout",
     "output_type": "stream",
     "text": [
      "236/236 [==============================] - 16s 68ms/step - loss: 0.0199 - accuracy: 0.9938 - val_loss: 0.5673 - val_accuracy: 0.8533\n",
      "Epoch 43/50\n",
      "235/236 [============================>.] - ETA: 0s - loss: 0.0119 - accuracy: 0.9964WARNING:tensorflow:Can save best model only with val_acc available, skipping.\n"
     ]
    },
    {
     "name": "stderr",
     "output_type": "stream",
     "text": [
      "WARNING:tensorflow:Can save best model only with val_acc available, skipping.\n"
     ]
    },
    {
     "name": "stdout",
     "output_type": "stream",
     "text": [
      "236/236 [==============================] - 15s 62ms/step - loss: 0.0119 - accuracy: 0.9964 - val_loss: 0.0419 - val_accuracy: 0.9886\n",
      "Epoch 44/50\n",
      "235/236 [============================>.] - ETA: 0s - loss: 0.0199 - accuracy: 0.9941WARNING:tensorflow:Can save best model only with val_acc available, skipping.\n"
     ]
    },
    {
     "name": "stderr",
     "output_type": "stream",
     "text": [
      "WARNING:tensorflow:Can save best model only with val_acc available, skipping.\n"
     ]
    },
    {
     "name": "stdout",
     "output_type": "stream",
     "text": [
      "236/236 [==============================] - 15s 63ms/step - loss: 0.0199 - accuracy: 0.9941 - val_loss: 0.5270 - val_accuracy: 0.8381\n",
      "Epoch 45/50\n",
      "235/236 [============================>.] - ETA: 0s - loss: 0.0115 - accuracy: 0.9966WARNING:tensorflow:Can save best model only with val_acc available, skipping.\n"
     ]
    },
    {
     "name": "stderr",
     "output_type": "stream",
     "text": [
      "WARNING:tensorflow:Can save best model only with val_acc available, skipping.\n"
     ]
    },
    {
     "name": "stdout",
     "output_type": "stream",
     "text": [
      "236/236 [==============================] - 15s 61ms/step - loss: 0.0115 - accuracy: 0.9966 - val_loss: 0.1034 - val_accuracy: 0.9631\n",
      "Epoch 46/50\n",
      "235/236 [============================>.] - ETA: 0s - loss: 0.0144 - accuracy: 0.9953WARNING:tensorflow:Can save best model only with val_acc available, skipping.\n"
     ]
    },
    {
     "name": "stderr",
     "output_type": "stream",
     "text": [
      "WARNING:tensorflow:Can save best model only with val_acc available, skipping.\n"
     ]
    },
    {
     "name": "stdout",
     "output_type": "stream",
     "text": [
      "236/236 [==============================] - 15s 63ms/step - loss: 0.0144 - accuracy: 0.9954 - val_loss: 0.2323 - val_accuracy: 0.9345\n",
      "Epoch 47/50\n",
      "235/236 [============================>.] - ETA: 0s - loss: 0.0168 - accuracy: 0.9954WARNING:tensorflow:Can save best model only with val_acc available, skipping.\n"
     ]
    },
    {
     "name": "stderr",
     "output_type": "stream",
     "text": [
      "WARNING:tensorflow:Can save best model only with val_acc available, skipping.\n"
     ]
    },
    {
     "name": "stdout",
     "output_type": "stream",
     "text": [
      "236/236 [==============================] - 15s 63ms/step - loss: 0.0168 - accuracy: 0.9954 - val_loss: 0.3124 - val_accuracy: 0.9089\n",
      "Epoch 48/50\n",
      "235/236 [============================>.] - ETA: 0s - loss: 0.0162 - accuracy: 0.9946WARNING:tensorflow:Can save best model only with val_acc available, skipping.\n"
     ]
    },
    {
     "name": "stderr",
     "output_type": "stream",
     "text": [
      "WARNING:tensorflow:Can save best model only with val_acc available, skipping.\n"
     ]
    },
    {
     "name": "stdout",
     "output_type": "stream",
     "text": [
      "236/236 [==============================] - 15s 65ms/step - loss: 0.0161 - accuracy: 0.9947 - val_loss: 1.4319 - val_accuracy: 0.6582\n",
      "Epoch 49/50\n",
      "235/236 [============================>.] - ETA: 0s - loss: 0.0144 - accuracy: 0.9957WARNING:tensorflow:Can save best model only with val_acc available, skipping.\n"
     ]
    },
    {
     "name": "stderr",
     "output_type": "stream",
     "text": [
      "WARNING:tensorflow:Can save best model only with val_acc available, skipping.\n"
     ]
    },
    {
     "name": "stdout",
     "output_type": "stream",
     "text": [
      "236/236 [==============================] - 15s 63ms/step - loss: 0.0144 - accuracy: 0.9957 - val_loss: 0.0800 - val_accuracy: 0.9729\n",
      "Epoch 50/50\n",
      "235/236 [============================>.] - ETA: 0s - loss: 0.0096 - accuracy: 0.9967WARNING:tensorflow:Can save best model only with val_acc available, skipping.\n"
     ]
    },
    {
     "name": "stderr",
     "output_type": "stream",
     "text": [
      "WARNING:tensorflow:Can save best model only with val_acc available, skipping.\n"
     ]
    },
    {
     "name": "stdout",
     "output_type": "stream",
     "text": [
      "236/236 [==============================] - 15s 64ms/step - loss: 0.0097 - accuracy: 0.9967 - val_loss: 0.0690 - val_accuracy: 0.9782\n",
      "Duration: 0:13:16.088333\n"
     ]
    }
   ],
   "source": [
    "from datetime import datetime\n",
    "start_time = datetime.now()\n",
    "\n",
    "history = model.fit(x_train,\n",
    "                    y_train,\n",
    "                    validation_split=0.2,\n",
    "                    batch_size = 128,\n",
    "                    epochs = 50,\n",
    "                    shuffle=True,\n",
    "                    callbacks=[callback])\n",
    "\n",
    "end_time = datetime.now()\n",
    "print('Duration: {}'.format(end_time - start_time))"
   ]
  },
  {
   "cell_type": "code",
   "execution_count": 22,
   "id": "160ffb1c-ddd5-408a-a4de-3978e8cf0c03",
   "metadata": {},
   "outputs": [
    {
     "data": {
      "image/png": "[encoded data removed]",
      "text/plain": [
       "<Figure size 640x480 with 1 Axes>"
      ]
     },
     "metadata": {},
     "output_type": "display_data"
    }
   ],
   "source": [
    "plt.plot(history.history['accuracy'])\n",
    "plt.plot(history.history['val_accuracy'])\n",
    "plt.title('model accuracy')\n",
    "plt.ylabel('accuracy')\n",
    "plt.xlabel('epoch')\n",
    "plt.legend(['train', 'val'], loc='upper left')\n",
    "plt.show()"
   ]
  },
  {
   "cell_type": "code",
   "execution_count": 23,
   "id": "f0a827de-5db0-486b-a3cf-5aa40c09ad7a",
   "metadata": {},
   "outputs": [
    {
     "data": {
      "image/png": "[encoded data removed]",
      "text/plain": [
       "<Figure size 640x480 with 1 Axes>"
      ]
     },
     "metadata": {},
     "output_type": "display_data"
    }
   ],
   "source": [
    "plt.plot(history.history['loss'])\n",
    "plt.plot(history.history['val_loss'])\n",
    "plt.title('model loss')\n",
    "plt.ylabel('loss')\n",
    "plt.xlabel('epoch')\n",
    "plt.legend(['train', 'val'], loc='upper left')\n",
    "plt.show()"
   ]
  },
  {
   "cell_type": "code",
   "execution_count": 24,
   "id": "29362a0b-374d-45f9-9b61-927cd7c7a1ff",
   "metadata": {},
   "outputs": [
    {
     "name": "stderr",
     "output_type": "stream",
     "text": [
      "D:\\Python310\\lib\\site-packages\\keras\\src\\engine\\training.py:3079: UserWarning: You are saving your model as an HDF5 file via `model.save()`. This file format is considered legacy. We recommend using instead the native Keras format, e.g. `model.save('my_model.keras')`.\n",
      "  saving_api.save_model(\n"
     ]
    }
   ],
   "source": [
    "model.save('Models//Skin Cancer.h5')"
   ]
  },
  {
   "cell_type": "code",
   "execution_count": 25,
   "id": "61be16c6-ac62-4436-930c-44cb88ca7e06",
   "metadata": {},
   "outputs": [
    {
     "name": "stdout",
     "output_type": "stream",
     "text": [
      "63/63 [==============================] - 1s 5ms/step - loss: 1.6465 - accuracy: 0.7104\n"
     ]
    }
   ],
   "source": [
    "x_test=np.array(x_test).reshape(-1,28,28,3)\n",
    "loss, acc = model.evaluate(x_test, y_test, verbose=1)"
   ]
  },
  {
   "cell_type": "code",
   "execution_count": 26,
   "id": "ee6d31a7-7c65-4e00-89d5-e43f01fbf618",
   "metadata": {},
   "outputs": [
    {
     "data": {
      "image/png": "[encoded data removed]",
      "text/plain": [
       "<Figure size 640x480 with 1 Axes>"
      ]
     },
     "metadata": {},
     "output_type": "display_data"
    },
    {
     "name": "stdout",
     "output_type": "stream",
     "text": [
      "1/1 [==============================] - 0s 381ms/step\n",
      "[9.9998629e-01 2.4212432e-07 2.2127449e-06 5.1311389e-08 4.0416367e-06\n",
      " 1.9337367e-07 6.9913654e-06]\n",
      "('akiec', 'actinic keratoses and intraepithelial carcinomae')\n",
      "True label: akiec\n",
      "\n"
     ]
    },
    {
     "data": {
      "image/png": "[encoded data removed]",
      "text/plain": [
       "<Figure size 640x480 with 1 Axes>"
      ]
     },
     "metadata": {},
     "output_type": "display_data"
    },
    {
     "name": "stdout",
     "output_type": "stream",
     "text": [
      "1/1 [==============================] - 0s 23ms/step\n",
      "[6.7192785e-05 9.9756795e-01 6.5290864e-04 4.2241677e-06 1.1849727e-03\n",
      " 2.5152071e-06 5.2015536e-04]\n",
      "('bcc', 'basal cell carcinoma')\n",
      "True label: bcc\n",
      "\n"
     ]
    },
    {
     "data": {
      "image/png": "[encoded data removed]",
      "text/plain": [
       "<Figure size 640x480 with 1 Axes>"
      ]
     },
     "metadata": {},
     "output_type": "display_data"
    },
    {
     "name": "stdout",
     "output_type": "stream",
     "text": [
      "1/1 [==============================] - 0s 17ms/step\n",
      "[2.9754443e-05 3.0013977e-04 1.5749305e-03 3.1824045e-05 9.9408853e-01\n",
      " 5.7907739e-05 3.9169337e-03]\n",
      "('nv', ' melanocytic nevi')\n",
      "True label: bkl\n",
      "\n"
     ]
    },
    {
     "data": {
      "image/png": "[encoded data removed]",
      "text/plain": [
       "<Figure size 640x480 with 1 Axes>"
      ]
     },
     "metadata": {},
     "output_type": "display_data"
    },
    {
     "name": "stdout",
     "output_type": "stream",
     "text": [
      "1/1 [==============================] - 0s 19ms/step\n",
      "[2.5307356e-06 3.8198614e-06 2.5278121e-06 9.9998331e-01 1.2409165e-06\n",
      " 3.6405111e-06 3.0009867e-06]\n",
      "('df', 'dermatofibroma')\n",
      "True label: df\n",
      "\n"
     ]
    },
    {
     "data": {
      "image/png": "[encoded data removed]",
      "text/plain": [
       "<Figure size 640x480 with 1 Axes>"
      ]
     },
     "metadata": {},
     "output_type": "display_data"
    },
    {
     "name": "stdout",
     "output_type": "stream",
     "text": [
      "1/1 [==============================] - 0s 17ms/step\n",
      "[2.2565639e-05 2.8141259e-04 1.0373300e-03 8.1601465e-06 8.0527931e-02\n",
      " 2.0233543e-04 9.1792035e-01]\n",
      "('mel', 'melanoma')\n",
      "True label: mel\n",
      "\n"
     ]
    },
    {
     "data": {
      "image/png": "[encoded data removed]",
      "text/plain": [
       "<Figure size 640x480 with 1 Axes>"
      ]
     },
     "metadata": {},
     "output_type": "display_data"
    },
    {
     "name": "stdout",
     "output_type": "stream",
     "text": [
      "1/1 [==============================] - 0s 31ms/step\n",
      "[1.6420216e-05 1.0519004e-05 4.2680738e-05 8.4883495e-06 9.9920589e-01\n",
      " 2.9696754e-05 6.8634795e-04]\n",
      "('nv', ' melanocytic nevi')\n",
      "True label: nv\n",
      "\n"
     ]
    },
    {
     "data": {
      "image/png": "[encoded data removed]",
      "text/plain": [
       "<Figure size 640x480 with 1 Axes>"
      ]
     },
     "metadata": {},
     "output_type": "display_data"
    },
    {
     "name": "stdout",
     "output_type": "stream",
     "text": [
      "1/1 [==============================] - 0s 27ms/step\n",
      "[8.8408507e-07 4.9064415e-06 8.9257549e-07 3.1482846e-06 2.6254802e-06\n",
      " 9.9998343e-01 4.1454678e-06]\n",
      "('vasc', ' pyogenic granulomas and hemorrhage')\n",
      "True label: vasc\n",
      "\n"
     ]
    }
   ],
   "source": [
    "import PIL\n",
    "import matplotlib.pyplot as plt\n",
    "import numpy as np\n",
    "\n",
    "img_list = ['Skin Cancer/isic 2019/dataset/train/ak/ISIC_0024468.jpg',\n",
    "           'Skin Cancer/isic 2019/dataset/train/bcc/ISIC_0024331.jpg',\n",
    "           'Skin Cancer/isic 2019/dataset/train/bkl/ISIC_0012090_downsampled.jpg',\n",
    "           'Skin Cancer/isic 2019/dataset/train/df/ISIC_0024318.jpg',\n",
    "           'Skin Cancer/isic 2019/dataset/train/mel/ISIC_0000002.jpg',\n",
    "           'Skin Cancer/isic 2019/dataset/train/nv/ISIC_0000001.jpg',\n",
    "           'Skin Cancer/isic 2019/dataset/train/vasc/ISIC_0024370.jpg']\n",
    "\n",
    "true_labels = ['akiec',\n",
    "              'bcc',\n",
    "              'bkl',\n",
    "              'df',\n",
    "              'mel',\n",
    "              'nv',\n",
    "              'vasc']\n",
    "\n",
    "for x in range(len(img_list)):\n",
    "    image = PIL.Image.open(img_list[x])\n",
    "    image = image.resize((28, 28))\n",
    "    \n",
    "    img = np.array(image)\n",
    "    \n",
    "    #img = img.reshape(-1, 28, 28, 3)\n",
    "    \n",
    "    plt.imshow(img)\n",
    "    plt.axis('off')\n",
    "    plt.show()\n",
    "    \n",
    "    img = x_test[1]\n",
    "    img = np.array(image).reshape(-1, 28, 28, 3)\n",
    "    result = model.predict(img)\n",
    "    print(result[0])\n",
    "    result = result.tolist()\n",
    "    max_prob = max(result[0])\n",
    "    class_ind = result[0].index(max_prob)\n",
    "    print(classes[class_ind])\n",
    "    print(f\"True label: {true_labels[x]}\")\n",
    "    print()"
   ]
  },
  {
   "cell_type": "code",
   "execution_count": null,
   "id": "e73beb57-d869-42ca-af0d-d6cd3043e1a7",
   "metadata": {},
   "outputs": [],
   "source": []
  },
  {
   "cell_type": "code",
   "execution_count": null,
   "id": "94ec9fad-6c3f-4e5a-bb0d-826975cff8e6",
   "metadata": {},
   "outputs": [],
   "source": []
  }
 ],
 "metadata": {
  "kernelspec": {
   "display_name": "Python 3 (ipykernel)",
   "language": "python",
   "name": "python3"
  },
  "language_info": {
   "codemirror_mode": {
    "name": "ipython",
    "version": 3
   },
   "file_extension": ".py",
   "mimetype": "text/x-python",
   "name": "python",
   "nbconvert_exporter": "python",
   "pygments_lexer": "ipython3",
   "version": "3.10.5"
  }
 },
 "nbformat": 4,
 "nbformat_minor": 5
}
